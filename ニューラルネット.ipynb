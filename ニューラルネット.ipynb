{
 "cells": [
  {
   "cell_type": "markdown",
   "metadata": {},
   "source": [
    "# ニューラルネットワークの基礎を理解"
   ]
  },
  {
   "cell_type": "markdown",
   "metadata": {},
   "source": [
    "## ニューラルネットワークスクラッチの検証にはMNISTデータセットを使用"
   ]
  },
  {
   "cell_type": "code",
   "execution_count": 1,
   "metadata": {},
   "outputs": [],
   "source": [
    "import numpy as np\n",
    "import pandas as pd\n",
    "from keras.datasets import mnist\n",
    "import matplotlib.pyplot as plt\n",
    "from sklearn.metrics import accuracy_score\n",
    "from sklearn.preprocessing import OneHotEncoder\n",
    "from sklearn.model_selection import train_test_split\n",
    "%matplotlib inline"
   ]
  },
  {
   "cell_type": "code",
   "execution_count": 2,
   "metadata": {},
   "outputs": [],
   "source": [
    "# 読み込み\n",
    "(X_train, y_train), (X_test, y_test) = mnist.load_data()"
   ]
  },
  {
   "cell_type": "markdown",
   "metadata": {},
   "source": [
    "訓練用6万枚、テスト用1万枚の28×28ピクセルの白黒画像、およびそれらが0〜9のどの数字であるかというラベル"
   ]
  },
  {
   "cell_type": "markdown",
   "metadata": {},
   "source": [
    "## データセットの確認"
   ]
  },
  {
   "cell_type": "code",
   "execution_count": 3,
   "metadata": {},
   "outputs": [
    {
     "name": "stdout",
     "output_type": "stream",
     "text": [
      "(60000, 28, 28)\n",
      "(10000, 28, 28)\n",
      "uint8\n"
     ]
    }
   ],
   "source": [
    "print(X_train.shape) # (60000, 28, 28)\n",
    "print(X_test.shape) # (10000, 28, 28)\n",
    "print(X_train[0].dtype) # uint8\n",
    "#print(X_train[0])"
   ]
  },
  {
   "cell_type": "code",
   "execution_count": 4,
   "metadata": {},
   "outputs": [],
   "source": [
    "X_train = X_train.reshape(-1, 784)\n",
    "X_test = X_test.reshape(-1, 784)"
   ]
  },
  {
   "cell_type": "markdown",
   "metadata": {},
   "source": [
    "## 画像データの可視化"
   ]
  },
  {
   "cell_type": "code",
   "execution_count": 5,
   "metadata": {},
   "outputs": [
    {
     "data": {
      "image/png": "[encoded data removed]",
      "text/plain": [
       "<Figure size 432x288 with 1 Axes>"
      ]
     },
     "metadata": {
      "needs_background": "light"
     },
     "output_type": "display_data"
    }
   ],
   "source": [
    "index = 0\n",
    "image = X_train[index].reshape(28,28)\n",
    "# X_train[index]: (784,)\n",
    "# image: (28, 28)\n",
    "plt.imshow(image, 'gray')\n",
    "plt.title('label : {}'.format(y_train[index]))\n",
    "plt.show()"
   ]
  },
  {
   "cell_type": "markdown",
   "metadata": {},
   "source": [
    "画像データは符号なし8ビット整数のuint8型で保持されることが一般的ですが、plt.imshowはより自由な配列を画像として表示することが可能です。例えば、以下のようにマイナスの値を持ったfloat64型の浮動小数点であってもエラーにはならないし、先ほどとまったく同じ風に表示されます。"
   ]
  },
  {
   "cell_type": "code",
   "execution_count": 6,
   "metadata": {},
   "outputs": [
    {
     "data": {
      "image/png": "[encoded data removed]",
      "text/plain": [
       "<Figure size 432x288 with 1 Axes>"
      ]
     },
     "metadata": {
      "needs_background": "light"
     },
     "output_type": "display_data"
    }
   ],
   "source": [
    "index = 0\n",
    "image = X_train[index].reshape(28,28)\n",
    "image = image.astype(np.float) # float型に変換\n",
    "image -= 105.35 # 意図的に負の小数値を作り出してみる\n",
    "plt.imshow(image, 'gray')\n",
    "plt.title('label : {}'.format(y_train[index]))\n",
    "plt.show()\n",
    "#print(image) # 値を確認"
   ]
  },
  {
   "cell_type": "code",
   "execution_count": 7,
   "metadata": {},
   "outputs": [
    {
     "data": {
      "text/plain": [
       "<matplotlib.image.AxesImage at 0x7f9f6b498a30>"
      ]
     },
     "execution_count": 7,
     "metadata": {},
     "output_type": "execute_result"
    },
    {
     "data": {
      "image/png": "[encoded data removed]",
      "text/plain": [
       "<Figure size 432x288 with 1 Axes>"
      ]
     },
     "metadata": {
      "needs_background": "light"
     },
     "output_type": "display_data"
    }
   ],
   "source": [
    "plt.imshow(image, 'gray', vmin = 0, vmax = 255)"
   ]
  },
  {
   "cell_type": "markdown",
   "metadata": {},
   "source": [
    "画像関係のライブラリではこの自動的なスケーリングが思わぬ結果を生むことがあるので、新しいメソッドを使うときには確認しておきましょう。"
   ]
  },
  {
   "cell_type": "markdown",
   "metadata": {},
   "source": [
    "## 前処理"
   ]
  },
  {
   "cell_type": "code",
   "execution_count": 8,
   "metadata": {},
   "outputs": [
    {
     "name": "stdout",
     "output_type": "stream",
     "text": [
      "1.0\n",
      "0.0\n"
     ]
    }
   ],
   "source": [
    "X_train = X_train.astype(np.float)\n",
    "X_test = X_test.astype(np.float)\n",
    "X_train /= 255\n",
    "X_test /= 255\n",
    "print(X_train.max()) # 1.0\n",
    "print(X_train.min()) # 0.0"
   ]
  },
  {
   "cell_type": "markdown",
   "metadata": {},
   "source": [
    "また、正解ラベルは0から9の整数ですが、ニューラルネットワークで多クラス分類を行う際には one-hot表現 に変換します。scikit-learnのOneHotEncoderを使用したコードが以下です。このone-hot表現による値はそのラベルである確率を示していることになるため、float型で扱います。"
   ]
  },
  {
   "cell_type": "code",
   "execution_count": 9,
   "metadata": {},
   "outputs": [
    {
     "name": "stdout",
     "output_type": "stream",
     "text": [
      "(48000, 784)\n",
      "(12000, 784)\n",
      "(48000,)\n",
      "(12000,)\n"
     ]
    }
   ],
   "source": [
    "X_train, X_val, y_train, y_val = train_test_split(X_train, y_train, test_size=0.2)\n",
    "print(X_train.shape) # (48000, 784)\n",
    "print(X_val.shape) # (12000, 784)\n",
    "print(y_train.shape)\n",
    "print(y_val.shape)"
   ]
  },
  {
   "cell_type": "code",
   "execution_count": 10,
   "metadata": {},
   "outputs": [
    {
     "name": "stdout",
     "output_type": "stream",
     "text": [
      "(48000,)\n",
      "(48000, 10)\n",
      "float64\n"
     ]
    }
   ],
   "source": [
    "from sklearn.preprocessing import OneHotEncoder\n",
    "enc = OneHotEncoder(handle_unknown='ignore', sparse=False)\n",
    "y_train_one_hot = enc.fit_transform(y_train[:, np.newaxis])\n",
    "y_test_one_hot = enc.transform(y_test[:, np.newaxis])\n",
    "y_val_one_hot = enc.transform(y_val[:, np.newaxis])\n",
    "print(y_train.shape) # (60000,)\n",
    "print(y_train_one_hot.shape) # (60000, 10)\n",
    "print(y_train_one_hot.dtype) # float64\n"
   ]
  },
  {
   "cell_type": "markdown",
   "metadata": {},
   "source": [
    "さらに、訓練データ6万枚の内2割を検証データとして分割してください。訓練データが48000枚、検証データが12000枚となります。"
   ]
  },
  {
   "cell_type": "markdown",
   "metadata": {},
   "source": [
    "### ミニバッチ処理"
   ]
  },
  {
   "cell_type": "markdown",
   "metadata": {},
   "source": [
    "これまでの機械学習スクラッチでは、すべてのサンプルを一度に計算していました。しかし、ニューラルネットワークではデータを分割して入力する 確率的勾配降下法 が一般的です。分割した際のひとかたまりを ミニバッチ 、そのサンプル数を バッチサイズ と呼びます。\n",
    "\n",
    "\n",
    "今回はバッチサイズを20とします。今回使う訓練データは48000枚ですから、48000÷20で2400回の更新を繰り返すことになります。ニューラルネットワークではこれを2400回 イテレーション（iteration） すると呼びます。訓練データを一度すべて見ると1回の エポック（epoch） が終わったことになります。このエポックを複数回繰り返し、学習が完了します。\n",
    "\n",
    "\n",
    "これを実現するための簡素なイテレータを用意しました。for文で呼び出すと、ミニバッチを取得できます。"
   ]
  },
  {
   "cell_type": "code",
   "execution_count": 11,
   "metadata": {},
   "outputs": [],
   "source": [
    "class GetMiniBatch:\n",
    "    \"\"\"\n",
    "    ミニバッチを取得するイテレータ\n",
    "    Parameters\n",
    "    ----------\n",
    "    X : 次の形のndarray, shape (n_samples, n_features)\n",
    "      訓練データ\n",
    "    y : 次の形のndarray, shape (n_samples, 1)\n",
    "      正解値\n",
    "    batch_size : int\n",
    "      バッチサイズ\n",
    "    seed : int\n",
    "      NumPyの乱数のシード\n",
    "    \"\"\"\n",
    "    def __init__(self, X, y, batch_size = 20, seed=0):\n",
    "        # バッチサイズ\n",
    "        self.batch_size = batch_size\n",
    "        # ランダムシードの固定\n",
    "        np.random.seed(seed)\n",
    "        # permutationは引数に配列を渡すとランダムに並び替えて返す\n",
    "        shuffle_index = np.random.permutation(np.arange(X.shape[0])) #Xの行数だけ公差配列を作る\n",
    "        # X,y両方を並べ替えた配列を作る\n",
    "        self._X = X[shuffle_index]\n",
    "        self._y = y[shuffle_index]\n",
    "        \n",
    "        # int型に変形させる\n",
    "        # astype(np.int)\n",
    "        \n",
    "        # 小数点以下を切り上げ、正に対して無限大に\n",
    "        ce_ = np.ceil\n",
    "        # 整数型になる\n",
    "        self._stop = ce_(X.shape[0]/self.batch_size).astype(np.int)\n",
    "        \n",
    "        # 整数が帰ってくる\n",
    "    def __len__(self):\n",
    "        return self._stop\n",
    "    \n",
    "        # p0の次のバッチの開始番号がp1となる\n",
    "    def __getitem__(self,item):\n",
    "        p0 = item*self.batch_size\n",
    "        p1 = item*self.batch_size + self.batch_size\n",
    "        return self._X[p0:p1], self._y[p0:p1]\n",
    "    \n",
    "        # 初期値0のカウンタ変数を返す\n",
    "    def __iter__(self):\n",
    "        self._counter = 0\n",
    "        return self\n",
    "    \n",
    "        # \n",
    "    def __next__(self):\n",
    "        if self._counter >= self._stop:\n",
    "            # マイナスの値になった場合、エラーにする\n",
    "            raise StopIteration()\n",
    "        # p0,p1を更新して次の場所を返す\n",
    "        p0 = self._counter*self.batch_size\n",
    "        p1 = self._counter*self.batch_size + self.batch_size\n",
    "        self._counter += 1\n",
    "        return self._X[p0:p1], self._y[p0:p1]"
   ]
  },
  {
   "cell_type": "markdown",
   "metadata": {},
   "source": [
    "### このクラスをインスタンス化し、for文を使うことでミニバッチが取り出せます。"
   ]
  },
  {
   "cell_type": "code",
   "execution_count": 32,
   "metadata": {},
   "outputs": [],
   "source": [
    "# # X_train=48000,y_train=48000\n",
    "# get_mini_batch = GetMiniBatch(X_train, y_train, batch_size=20)\n",
    "# print(len(get_mini_batch)) # 2400\n",
    "# print(get_mini_batch[5]) # 5番目のミニバッチが取得できる\n",
    "# print(type(get_mini_batch[5]))\n",
    "# # 2400回繰り返す\n",
    "# for mini_X_train, mini_y_train in get_mini_batch:\n",
    "#     # このfor文内でミニバッチが使える\n",
    "    \n",
    "#     pass"
   ]
  },
  {
   "cell_type": "markdown",
   "metadata": {},
   "source": [
    "## 学習"
   ]
  },
  {
   "cell_type": "markdown",
   "metadata": {},
   "source": [
    "ニューラルネットワークの学習はフォワードプロパゲーションとバックプロパゲションの繰り返しになります。"
   ]
  },
  {
   "cell_type": "markdown",
   "metadata": {},
   "source": [
    "## 【問題1】重みの初期値を決めるコードの作成"
   ]
  },
  {
   "cell_type": "markdown",
   "metadata": {},
   "source": [
    "ニューラルネットワークの各層の重みの初期値を決めるコードを作成してください。\n",
    "\n",
    "\n",
    "重みの初期値はさまざまな方法が提案されていますが、今回はガウス分布による単純な初期化を行います。バイアスに関しても同様です。\n",
    "\n",
    "\n",
    "以下のコードを参考にしてください。標準偏差の値sigmaはハイパーパラメータです。発展的な重みの初期化方法については次のSprintで扱います。"
   ]
  },
  {
   "cell_type": "code",
   "execution_count": 13,
   "metadata": {},
   "outputs": [],
   "source": [
    "# n_features = 784\n",
    "# n_nodes1 = 400\n",
    "# n_nodes2 = 200\n",
    "# n_output = 10\n",
    "# sigma = 0.01 # ガウス分布の標準偏差\n",
    "#self.W1 = sigma * np.random.randn(n_features, n_nodes1)\n",
    "# self.W1: (784, 400)"
   ]
  },
  {
   "cell_type": "code",
   "execution_count": 14,
   "metadata": {},
   "outputs": [],
   "source": [
    "# # 重みとバイアス\n",
    "# self.W1 = sigma * np.random.randn(n_features,n_nodes1) #第一層の重み\n",
    "# self.W2 = sigma * np.random.randn(n_nodes1,n_nodes2) #第二層の重み\n",
    "# self.W3 = sigma * np.random.randn(n_nodes2,n_output) #第三層の重み\n",
    "# self.B1 = sigma * np.random.randn(n_nodes1) #第一層のバイアス\n",
    "# self.B2 = sigma * np.random.randn(n_nodes2) #第二層のバイアス\n",
    "# self.B3 = sigma * np.random.randn(n_output) #第三層のバイアス"
   ]
  },
  {
   "cell_type": "markdown",
   "metadata": {},
   "source": [
    "## 【問題2】フォワードプロパゲーションの実装"
   ]
  },
  {
   "cell_type": "markdown",
   "metadata": {},
   "source": [
    "三層のニューラルネットワークの フォワードプロパゲーション を作成してください。以下の説明ではノード数は1層目は400、2層目は200としますが、変更しても構いません。\n",
    "\n",
    "\n",
    "各層の数式を以下に示します。今回はそれぞれの記号が表す配列が、実装上どのようなndarrayのshapeになるかを併記してあります。"
   ]
  },
  {
   "cell_type": "markdown",
   "metadata": {},
   "source": [
    "「1層目」\n",
    "\n",
    "$$\n",
    "A_1=X⋅W_1+B_1\n",
    "$$\n",
    "\n",
    "$X$ : 特徴量ベクトル (batch_size, n_features)\n",
    "\n",
    "\n",
    "$W_1$ : 1層目の重み (n_features, n_nodes1)\n",
    "\n",
    "\n",
    "$B_1$ : 1層目のバイアス (n_nodes1,)\n",
    "\n",
    "\n",
    "$A_1$ : 出力 (batch_size, n_nodes1)\n",
    "\n",
    "\n",
    "「1層目の活性化関数」\n",
    "\n",
    "$$\n",
    "Z_1=f(A_1)\n",
    "$$\n",
    "\n",
    "$f()$ : 活性化関数\n",
    "\n",
    "\n",
    "$Z_1$ 出力 (batch_size, n_nodes1)"
   ]
  },
  {
   "cell_type": "markdown",
   "metadata": {},
   "source": [
    "------------------------------------------------------"
   ]
  },
  {
   "cell_type": "markdown",
   "metadata": {},
   "source": [
    "「2層目」\n",
    "\n",
    "$$\n",
    "A_2=Z_1⋅W_2+B_2\n",
    "$$\n",
    "\n",
    "$W_2$ : 2層目の重み (n_nodes1, n_nodes2)\n",
    "\n",
    "\n",
    "$B_2$ : 2層目のバイアス (n_nodes2,)\n",
    "\n",
    "\n",
    "$A_2$ : 出力 (batch_size, n_nodes2)\n",
    "\n",
    "\n",
    "「2層目の活性化関数」\n",
    "\n",
    "$$\n",
    "Z_2=f(A_2)\n",
    "$$\n",
    "\n",
    "$f()$ : 活性化関数\n",
    "\n",
    "\n",
    "$Z_2$ 出力 (batch_size, n_nodes2)"
   ]
  },
  {
   "cell_type": "markdown",
   "metadata": {},
   "source": [
    "--------------------------------------------------------------"
   ]
  },
  {
   "cell_type": "markdown",
   "metadata": {},
   "source": [
    "「3層目（出力層）」\n",
    "\n",
    "$$\n",
    "A_3=Z_2⋅W_3+B_3\n",
    "$$\n",
    "\n",
    "$W_3$ : 3層目の重み (n_nodes2, n_output)\n",
    "\n",
    "\n",
    "$B_3$ : 3層目のバイアス (n_output,)\n",
    "\n",
    "\n",
    "$A_3$ : 出力 (batch_size, n_output)\n",
    "\n",
    "\n",
    "「3層目の活性化関数」\n",
    "\n",
    "$$\n",
    "Z_3=softmax(A_3)\n",
    "$$\n",
    "\n",
    "$softmax()$ : ソフトマックス関数\n",
    "\n",
    "\n",
    "$Z_3$ 出力 (batch_size, n_output)\n",
    "\n",
    "\n",
    "$Z_3$ は各ラベル（0〜9）に対する確率の配列である。"
   ]
  },
  {
   "cell_type": "markdown",
   "metadata": {},
   "source": [
    "## 活性化関数（フォワードプロバゲーション）"
   ]
  },
  {
   "cell_type": "markdown",
   "metadata": {},
   "source": [
    "活性化関数を作成し、フォワードプロパゲーションの中で使用します。切り替えられるように実装することを推奨しますが、片方でも構いません。"
   ]
  },
  {
   "cell_type": "markdown",
   "metadata": {},
   "source": [
    "---------------------------------------------------------"
   ]
  },
  {
   "cell_type": "markdown",
   "metadata": {},
   "source": [
    "「シグモイド関数」\n",
    "\n",
    "$$\n",
    "f(Z)=sigmoid(A)=1/(1+exp(−A))\n",
    "$$\n",
    "\n",
    "指数関数 $exp(-A)$ の計算はnp.expを使用してください。"
   ]
  },
  {
   "cell_type": "markdown",
   "metadata": {},
   "source": [
    "「ハイパボリックタンジェント関数」\n",
    "\n",
    "\n",
    "次の数式で表されますが、np.tanhひとつで実現できます。\n",
    "\n",
    "$$\n",
    "f(Z)=tanh(A)=(exp(A)−exp(−A)) / (exp(A)+exp(−A))\n",
    "$$ \n",
    "\n",
    "＊現在ではこれらの代わりにReLUと呼ばれる活性化関数が一般的です。次のSprintで扱います。"
   ]
  },
  {
   "cell_type": "markdown",
   "metadata": {},
   "source": [
    "## ソフトマックス関数"
   ]
  },
  {
   "cell_type": "markdown",
   "metadata": {},
   "source": [
    "ソフトマックス関数を作成し、フォワードプロパゲーションの中で使用します。これも活性化関数の一種ですが、多クラス分類の出力層で使われる特性上、区別して扱われることが多いです。\n",
    "\n",
    "\n",
    "次の数式です。\n",
    "\n",
    "$$\n",
    "Z_{3_k}=exp(A_{3k})/∑^{n_c}_{i=1}exp(A_{3i})\n",
    "$$\n",
    "\n",
    "$Z_{3_k}$ : $k$ 番目のクラスの確率ベクトル (batch_size,)\n",
    "\n",
    "\n",
    "$A_{3_k}$ : $k$ 番目のクラスにあたる前の層からのベクトル (batch_size,)\n",
    "\n",
    "\n",
    "$n_c$ : クラスの数、n_output。今回のMNISTでは10。\n",
    "\n",
    "\n",
    "分母はすべてのクラスに相当する値を指数関数に通した上で足し合わせたものです。その中で、分子に $k$ 番目のクラスを持ってくることで、 $k$ 番目のクラスである確率が求まります。\n",
    "\n",
    "\n",
    "これを10クラス分計算し、合わせたものが $Z_3$ です。"
   ]
  },
  {
   "cell_type": "code",
   "execution_count": 15,
   "metadata": {},
   "outputs": [],
   "source": [
    "# batch_size = 20 # バッチサイズ\n",
    "# n_features = 784 # 特徴量の数\n",
    "# n_nodes1 = 400 # 1層目のノード数\n",
    "# n_nodes2 = 200 # 2層目のノード数\n",
    "# n_output = 10 # 出力のクラス数（3層目のノード数）"
   ]
  },
  {
   "cell_type": "code",
   "execution_count": 16,
   "metadata": {},
   "outputs": [],
   "source": [
    "\n",
    "# # 活性化関数、今回はシグモイド関数\n",
    "# def _sigmoid(self,X):\n",
    "#     return 1 /(1 + np.exp(-X))\n",
    "\n",
    "# # ソフトマックス関数\n",
    "# def _softmax(self,X):\n",
    "#     c = np.max(X)\n",
    "#     exp_x = np.exp(X - c)\n",
    "#     sum_exp_x = np.sum(exp_x)\n",
    "#     y = exp_x / sum_exp_x\n",
    "#     return y\n",
    "\n",
    "# def forward(self,X):\n",
    "#     \"\"\"1層目\"\"\"\n",
    "#     self.A1 = np.matmul(X,self.W1) + self.B1\n",
    "#     self.Z1 = self._sigmoid(self.A1)\n",
    "\n",
    "#     \"\"\"2層目\"\"\"\n",
    "#     self.A2 = np.matmul(self.Z1,self.W2) + self.B2\n",
    "#     self.Z2 = self._sigmoid(self.A2)\n",
    "\n",
    "#     \"\"\"3層目\"\"\"\n",
    "#     self.A3 = np.matmul(self.Z2,self.W3) + self.B3\n",
    "#     self.Z3 = self._softmax(self.A3)\n",
    "\n",
    "        \n",
    "\n"
   ]
  },
  {
   "cell_type": "markdown",
   "metadata": {},
   "source": [
    "## 【問題3】交差エントロピー誤差の実装"
   ]
  },
  {
   "cell_type": "markdown",
   "metadata": {},
   "source": [
    "目的関数（損失関数）を作成します。\n",
    "\n",
    "\n",
    "多クラス分類の目的関数である交差エントロピー誤差 $L$ は次の数式です。"
   ]
  },
  {
   "cell_type": "markdown",
   "metadata": {},
   "source": [
    "$$\n",
    "L=−1/{n_b}∑^{n_b}_j∑^{n_c}_ky_{jk}log(z{3_jk})\n",
    "$$\n",
    "\n",
    "$y_{ij}$ : $j$ 番目のサンプルの $k$ 番目のクラスの正解ラベル（one-hot表現で0か1のスカラー）\n",
    "\n",
    "\n",
    "$z_{3_ij}$ : $j$ 番目のサンプルの $k$ 番目のクラスの確率（スカラー）\n",
    "\n",
    "\n",
    "$n_{b}$ : バッチサイズ、batch_size\n",
    "\n",
    "\n",
    "$n_{c}$ : クラスの数、n_output（今回のMNISTでは10）"
   ]
  },
  {
   "cell_type": "markdown",
   "metadata": {},
   "source": [
    "サンプル1つあたりの誤差が求まります。\n",
    "\n",
    "\n",
    "実数におけるlog(x)の定義域は0 < xです。したがって、logの中身がとても小さい値になってしまったときエラーを起こします。そこでlogの中に1e-7を足すことでエラーを回避できます。\n",
    "\n",
    "\n",
    "こういった処理はlogに限らず、さまざまな場所で出てくることがあります。"
   ]
  },
  {
   "cell_type": "code",
   "execution_count": 17,
   "metadata": {},
   "outputs": [],
   "source": [
    "# # 交差エントロピー誤差\n",
    "# def cross_entro_error(z,y,batch_size=20,n_output=10):\n",
    "#     # ダブルシグマの合計値を入れるために０で初期化\n",
    "#     to_sum = 0\n",
    "\n",
    "#     # バッチの数（今回は２０）繰り返す\n",
    "#     for j in range(batch_size):\n",
    "#         # クラスの数（今回は１０）繰り返す\n",
    "#         for k in range(n_output):\n",
    "#             sum_k = y[j,k]*np.log(self.Z3[j,k])\n",
    "#             to_sum += sum_k\n",
    "\n",
    "#     L = (-1/batch_size)*to_sum\n",
    "    \n",
    "#     return L\n"
   ]
  },
  {
   "cell_type": "markdown",
   "metadata": {},
   "source": [
    "## 【問題4】バックプロパゲーションの実装"
   ]
  },
  {
   "cell_type": "markdown",
   "metadata": {},
   "source": [
    "三層のニューラルネットワークのバックプロパゲーションを作成してください。確率的勾配降下法を行う部分です。\n",
    "\n",
    "\n",
    "数式を以下に示します。\n",
    "\n",
    "\n",
    "まず、i層目の重みとバイアスの更新式です。 $W_i$ と $B_i$ に対し、更新後の $W_i^{\\prime}$ と $B_i^{\\prime}$ は次の数式で求められます。"
   ]
  },
  {
   "cell_type": "markdown",
   "metadata": {},
   "source": [
    "$$\n",
    "W′_i=W_i−α\\frac{\\partial L}{\\partial W_i}\n",
    "$$\n",
    "$$\n",
    "B′_i=B_i−α\\frac{\\partial L}{\\partial B_i}\n",
    "$$\n",
    "\n",
    "$\\alpha$ : 学習率（層ごとに変えることも可能だが、基本的にはすべて同じとする）\n",
    "\n",
    "\n",
    "$\\frac{\\partial L}{\\partial W_i}$ : $W_i$ に関する損失 $L$ の勾配\n",
    "\n",
    "\n",
    "$\\frac{\\partial L}{\\partial B_i}$ : $B_i$ に関する損失 $L$ の勾配\n",
    "\n",
    "\n",
    "＊この勾配はミニバッチのサンプル数分の合計または平均を考えます。ここでは合計を計算します。"
   ]
  },
  {
   "cell_type": "markdown",
   "metadata": {},
   "source": [
    "この更新方法はSprint3線形回帰やsprint4ロジスティック回帰における最急降下法と同様です。より効果的な更新方法が知られており、それは次のSprintで扱います。\n",
    "\n",
    "\n",
    "勾配 $\\frac{\\partial L}{\\partial W_i}$ や $\\frac{\\partial L}{\\partial B_i}$ を求めるために、バックプロパゲーションを行います。以下の数式です。ハイパボリックタンジェント関数を使用した例を載せました。シグモイド関数の場合の数式はその後ろにあります。"
   ]
  },
  {
   "cell_type": "markdown",
   "metadata": {},
   "source": [
    "「3層目」\n",
    "\n",
    "$$\n",
    "\\frac{\\partial L}{\\partial A_3}=1/{n_b}(Z_3−Y)\n",
    "$$\n",
    "$$\n",
    "\\frac{\\partial L}{\\partial B_3}=∑^{n_b}_j\\frac{\\partial L}{\\partial A_{3_j}}\n",
    "$$\n",
    "$$\n",
    "\\frac{\\partial L}{\\partial W_3}=Z^T_2⋅\\frac{\\partial L}{\\partial A_3}\n",
    "$$\n",
    "$$\n",
    "\\frac{\\partial L}{\\partial Z_2}=\\frac{\\partial L}{\\partial A_3}⋅W^T_3\n",
    "$$\n",
    "\n",
    "$\\frac{\\partial L}{\\partial A_3}$ : $A_3$ に関する損失 $L$ の勾配 (batch_size, n_output)\n",
    "\n",
    "\n",
    "$\\frac{\\partial L}{\\partial A_{3_j}}$ : j番目のサンプルの$A_3$ に関する損失 $L$ の勾配 (n_nodes2,)\n",
    "\n",
    "\n",
    "$\\frac{\\partial L}{\\partial B_3}$ : $B_3$ に関する損失 $L$ の勾配 (n_output,)\n",
    "\n",
    "\n",
    "$\\frac{\\partial L}{\\partial W_3}$ : $W_3$ に関する損失 $L$ の勾配 (n_nodes2, n_output)\n",
    "\n",
    "\n",
    "$\\frac{\\partial L}{\\partial Z_2}$ : $Z_2$ に関する損失 $L$ の勾配 (batch_size, n_nodes2)\n",
    "\n",
    "\n",
    "$Z_{3}$ : ソフトマックス関数の出力 (batch_size, n_nodes2)\n",
    "\n",
    "\n",
    "$Y$ : 正解ラベル (batch_size, n_output)\n",
    "\n",
    "\n",
    "$Z_{2}$ : 2層目の活性化関数の出力 (batch_size, n_nodes2)\n",
    "\n",
    "\n",
    "$W_3$ : 3層目の重み (n_nodes2, n_output)\n",
    "\n",
    "\n",
    "$n_{b}$ : バッチサイズ、batch_size"
   ]
  },
  {
   "cell_type": "markdown",
   "metadata": {},
   "source": [
    "「2層目」\n",
    "\n",
    "$$\n",
    "\\frac{\\partial L}{\\partial A_2}=\\frac{\\partial L}{\\partial Z_2}⊙(1−tanh^2(A_2))\n",
    "$$\n",
    "$$\n",
    "\\frac{\\partial L}{\\partial B_2}=∑^{n_b}_j \\frac{\\partial L}{\\partial A_{2_j}}\n",
    "$$\n",
    "$$\n",
    "\\frac{\\partial L}{\\partial W_2}=Z^T_1⋅\\frac{\\partial L}{\\partial A_2}\n",
    "$$\n",
    "$$_\n",
    "\\frac{\\partial L}{\\partial Z_1}=\\frac{\\partial L}{\\partial A_2}⋅W^T_2\n",
    "$$\n",
    "\n",
    "$\\frac{\\partial L}{\\partial A_2}$ : $A_2$ に関する損失 $L$ の勾配 (batch_size, n_nodes2)\n",
    "\n",
    "\n",
    "$\\frac{\\partial L}{\\partial A_{2_j}}$ : j番目のサンプルの$A_2$ に関する損失 $L$ の勾配 (n_nodes2,)\n",
    "\n",
    "\n",
    "$\\frac{\\partial L}{\\partial B_2}$ : $B_2$ に関する損失 $L$ の勾配 (n_nodes2,)\n",
    "\n",
    "\n",
    "$\\frac{\\partial L}{\\partial W_2}$ : $W_2$ に関する損失 $L$ の勾配 (n_nodes1, n_nodes2)\n",
    "\n",
    "\n",
    "$\\frac{\\partial L}{\\partial Z_2}$ : $Z_2$ に関する損失 $L$ の勾配 (batch_size, n_nodes2)\n",
    "\n",
    "\n",
    "$A_2$ : 2層目の出力 (batch_size, n_nodes2)\n",
    "\n",
    "\n",
    "$Z_{1}$ : 1層目の活性化関数の出力 (batch_size, n_nodes1)\n",
    "\n",
    "\n",
    "$W_2$ : 2層目の重み (n_nodes1, n_nodes2)"
   ]
  },
  {
   "cell_type": "markdown",
   "metadata": {},
   "source": [
    "「1層目」\n",
    "\n",
    "$$\n",
    "\\frac{\\partial L}{\\partial A_1}=\\frac{\\partial L}{\\partial Z_1}⊙(1−tanh^2(A_1))\n",
    "$$\n",
    "$$\n",
    "\\frac{\\partial L}{\\partial B_1}=∑^{n_b}_j \\frac{\\partial L}{\\partial A_{1_j}}\n",
    "$$\n",
    "$$\n",
    "\\frac{\\partial L}{\\partial W_1}=X^T⋅\\frac{\\partial L}{\\partial A_1}\n",
    "$$\n",
    "\n",
    "$\\frac{\\partial L}{\\partial A_1}$ : $A_1$ に関する損失 $L$ の勾配 (batch_size, n_nodes1)\n",
    "\n",
    "\n",
    "$\\frac{\\partial L}{\\partial A_{1_j}}$ : j番目のサンプルの$A_1$ に関する損失 $L$ の勾配 (n_nodes1,)\n",
    "\n",
    "\n",
    "$\\frac{\\partial L}{\\partial B_1}$ : $B_1$ に関する損失 $L$ の勾配 (n_nodes1,)\n",
    "\n",
    "\n",
    "$\\frac{\\partial L}{\\partial W_1}$ : $W_1$ に関する損失 $L$ の勾配 (n_features, n_nodes1)\n",
    "\n",
    "\n",
    "$\\frac{\\partial L}{\\partial Z_1}$ : $Z_1$ に関する損失 $L$ の勾配 (batch_size, n_nodes1)\n",
    "\n",
    "\n",
    "$A_1$ : 1層目の出力 (batch_size, n_nodes1)\n",
    "\n",
    "\n",
    "$X$ : 特徴量ベクトル (batch_size, n_features)\n",
    "\n",
    "\n",
    "$W_1$ : 1層目の重み (n_features, n_nodes1)"
   ]
  },
  {
   "cell_type": "markdown",
   "metadata": {},
   "source": [
    "《補足》\n",
    "\n",
    "\n",
    "活性化関数にシグモイド関数を使用した場合は、次のようになります。\n",
    "\n",
    "$$\n",
    "\\frac{\\partial L}{\\partial A_2}=\\frac{\\partial L}{\\partial Z_2}⊙(1−sigmoid(A_2))⊙sigmoid(A_2)\n",
    "$$\n",
    "$$\n",
    "\\frac{\\partial L}{\\partial A_1}=\\frac{\\partial L}{\\partial Z_1}⊙(1−sigmoid(A_1))⊙sigmoid(A_1)\n",
    "$$"
   ]
  },
  {
   "cell_type": "code",
   "execution_count": 18,
   "metadata": {},
   "outputs": [],
   "source": [
    "# def back_proba(self,X,y):\n",
    "#     # X,yを入力すると3-1層を通過して最終出力値を返す仕組み\n",
    "    \n",
    "#     \"\"\"3層目\"\"\"\n",
    "#     # 重みに対する勾配\n",
    "#     bA3 = (self.Z3 - y)/self.batch_size\n",
    "#     bW3 = np.matmul(self.Z2.T,bA3)\n",
    "#     # バイアスに対する勾配\n",
    "#     bB3 = np.sum(bA3,axis = 0)\n",
    "    \n",
    "#     \"\"\"2層目\"\"\"\n",
    "#     # 重みに対する勾配\n",
    "#     bZ2 = np.matmul(bA3,self.W3.T)\n",
    "#     bA2 = bZ2 * (1 - self._sigmoid(self.A2))*self._sigmoid(self.A2)\n",
    "#     bW2 = np.matmul(self.Z1.T,bA2)\n",
    "#     # バイアスに対する勾配\n",
    "#     bB2 = np.sum(bA2,axis = 0)\n",
    "    \n",
    "#     \"\"\"1層目\"\"\"\n",
    "#     # 重みに対する勾配\n",
    "    \n",
    "#     bZ1 = np.matmul(bA2,self.W2.T)\n",
    "#     bA1 = bZ1 * (1 - self._sigmoid(self.A1))*self._sigmoid(self.A1)\n",
    "#     bW1 = np.matmul(X.T,bA1)\n",
    "#     # バイアスに対する勾配\n",
    "#     bB1 = np.sum(bA1,axis = 0)\n",
    "    \n",
    "#     # 各勾配に学習率をかけて更新\n",
    "#     self.W3 -= self.lr * bW3\n",
    "#     self.B3 -= self.lr * bB3\n",
    "#     self.W2 -= self.lr * bW2\n",
    "#     self.B2 -= self.lr * bB2\n",
    "#     self.W1 -= self.lr * bW1\n",
    "#     self.B1 -= self.lr * bB1\n",
    "    \n",
    "    \n",
    "    "
   ]
  },
  {
   "cell_type": "markdown",
   "metadata": {},
   "source": [
    "## 【問題5】推定"
   ]
  },
  {
   "cell_type": "markdown",
   "metadata": {},
   "source": [
    "推定を行うメソッドを作成してください。\n",
    "\n",
    "\n",
    "フォワードプロパゲーションによって出力された10個の確率の中で、最も高いものはどれかを判定します。"
   ]
  },
  {
   "cell_type": "code",
   "execution_count": 19,
   "metadata": {},
   "outputs": [],
   "source": [
    "# def predict(self,X):\n",
    "#     \"\"\"予測\n",
    "#     Parameters\n",
    "#     ----------\n",
    "#     X : 説明変数\n",
    "#     \"\"\"\n",
    "#     # 順伝播処理\n",
    "#     self.forward(X)\n",
    "#     # 最も大きいインデックスをクラスとして採用\n",
    "#     return np.argmax(self.Z3, axis=1)"
   ]
  },
  {
   "cell_type": "markdown",
   "metadata": {},
   "source": [
    "## 【問題6】学習と推定"
   ]
  },
  {
   "cell_type": "markdown",
   "metadata": {},
   "source": [
    "MNISTのデータを学習・推定し、Accuracyを計算してください。"
   ]
  },
  {
   "cell_type": "code",
   "execution_count": 35,
   "metadata": {},
   "outputs": [],
   "source": [
    "class ScratchSimpleNeuralNetrowkClassifier():\n",
    "    \"\"\"\n",
    "    シンプルな三層ニューラルネットワーク分類器\n",
    "    Parameters\n",
    "    ----------\n",
    "    Attributes\n",
    "    ----------\n",
    "    \"\"\"\n",
    "    def __init__(self,batch_size = 20,n_features = 784,n_nodes1 = 400,n_nodes2 = 200,n_output = 10,sigma = 0.02,lr = 0.01,epoch = 10, verbose = True):\n",
    "        \"\"\"変数の初期化\n",
    "        Parameters\n",
    "        ----------\n",
    "        verbose : 計算過程を出力するか否か\n",
    "        batch_size : ミニバッチのデータ数\n",
    "        n_features : 説明変数の数\n",
    "        n_nodes1 : 1層目のノードの数\n",
    "        n_nodes2 : 2層目のノードの数\n",
    "        n_output : 出力層のノードの数\n",
    "        sigma : 重みの初期化の際のガウス分布の標準偏差\n",
    "        lr : 学習率\n",
    "        epoch : 学習回数\n",
    "        \"\"\"\n",
    "        self.batch_size = batch_size\n",
    "        self.n_features = n_features\n",
    "        self.n_nodes1 = n_nodes1\n",
    "        self.n_nodes2 = n_nodes2 \n",
    "        self.n_output = n_output\n",
    "        self.sigma = sigma\n",
    "        self.lr = lr\n",
    "        self.epoch = epoch\n",
    "        self.verbose = verbose\n",
    "        \n",
    "        # 損失記録用\n",
    "        self.loss_train = []\n",
    "        self.loss_val = []\n",
    "        \n",
    "        # 使用する重みの初期化\n",
    "        # 重みとバイアス\n",
    "        self.W1 = self.sigma * np.random.randn(self.n_features,self.n_nodes1) #第一層の重み\n",
    "        self.W2 = self.sigma * np.random.randn(self.n_nodes1,self.n_nodes2) #第二層の重み\n",
    "        self.W3 = self.sigma * np.random.randn(self.n_nodes2,self.n_output) #第三層の重み\n",
    "        self.B1 = self.sigma * np.random.randn(1,self.n_nodes1) #第一層のバイアス\n",
    "        self.B2 = self.sigma * np.random.randn(1,self.n_nodes2) #第二層のバイアス\n",
    "        self.B3 = self.sigma * np.random.randn(1,self.n_output) #第三層のバイアス\n",
    "        pass\n",
    "    \n",
    "    def fit(self, X, y, X_val=None, y_val=None):\n",
    "        \"\"\"\n",
    "        ニューラルネットワーク分類器を学習する。\n",
    "        Parameters\n",
    "        ----------\n",
    "        X : 次の形のndarray, shape (n_samples, n_features)\n",
    "            訓練データの特徴量\n",
    "        y : 次の形のndarray, shape (n_samples, )\n",
    "            訓練データの正解値\n",
    "        X_val : 次の形のndarray, shape (n_samples, n_features)\n",
    "            検証データの特徴量\n",
    "        y_val : 次の形のndarray, shape (n_samples, )\n",
    "            検証データの正解値\n",
    "        \"\"\"\n",
    "        # 学習回数分ループ\n",
    "        for _ in range(self.epoch):\n",
    "            \n",
    "            # ミニバッチのインスタンス化\n",
    "            get_mini_batch = GetMiniBatch(X, y, batch_size=self.batch_size)\n",
    "            \n",
    "            # イテレータが停止するまで繰り返す\n",
    "            for mini_X_train, mini_y_train in get_mini_batch:\n",
    "                # 順伝播\n",
    "                self.forward(mini_X_train)\n",
    "                # 逆伝播\n",
    "                self.back_proba(mini_X_train, mini_y_train)\n",
    "                \n",
    "            # ミニバッチ学習後のロス計算\n",
    "            self.forward(X)\n",
    "            self.loss_train.append(self.cross_entro_error(y, self.Z3))\n",
    "            \n",
    "            # 評価データがあるなら、こちらも計算\n",
    "            if X_val is not None:\n",
    "                self.forward(X_val)\n",
    "                self.loss_val.append(self.cross_entro_error(y_val, self.Z3))\n",
    "        \n",
    "        \n",
    "        \n",
    "        if self.verbose:\n",
    "            #verboseをTrueにした際は学習過程などを出力する\n",
    "            print()\n",
    "        pass\n",
    "    \n",
    "    # 活性化関数、今回はシグモイド関数\n",
    "    def _sigmoid(self,X):\n",
    "        return 1 /(1 + np.exp(-X))\n",
    "    \n",
    "    def tanh_function(self, A):\n",
    "        \n",
    "        return np.tanh(A)\n",
    "\n",
    "    # ソフトマックス関数\n",
    "    def _softmax(self,X):\n",
    "        #c = np.max(X)\n",
    "        exp_x = np.exp(X)\n",
    "        sum_exp_x = np.sum(exp_x,axis = 1).reshape(-1,1)\n",
    "        y = (exp_x / sum_exp_x)\n",
    "        return y\n",
    "\n",
    "    def forward(self,X):\n",
    "        \"\"\"1層目\"\"\"\n",
    "        self.A1 = X@self.W1 + self.B1\n",
    "        self.Z1 = self.tanh_function(self.A1)\n",
    "\n",
    "        \"\"\"2層目\"\"\"\n",
    "        self.A2 = self.Z1@self.W2 + self.B2\n",
    "        self.Z2 = self.tanh_function(self.A2)\n",
    "\n",
    "        \"\"\"3層目\"\"\"\n",
    "        self.A3 = self.Z2@self.W3 + self.B3\n",
    "        self.Z3 = self._softmax(self.A3)\n",
    "\n",
    "    def back_proba(self,X,y):\n",
    "        # X,yを入力すると3-1層を通過して最終出力値を返す仕組み\n",
    "\n",
    "        \"\"\"3層目\"\"\"\n",
    "        # 重みに対する勾配\n",
    "        bA3 = (self.Z3 - y)/self.batch_size\n",
    "        bW3 = self.Z2.T@bA3\n",
    "        # バイアスに対する勾配\n",
    "        bB3 = np.sum(bA3,axis = 0)\n",
    "\n",
    "        \"\"\"2層目\"\"\"\n",
    "        # 重みに対する勾配\n",
    "        bZ2 = bA3@self.W3.T\n",
    "        #bA2 = bZ2 * (1 - self._sigmoid(self.A2))*self._sigmoid(self.A2)\n",
    "        bA2 = bZ2 * (1 - self.tanh_function(self.A2)**2)\n",
    "        bW2 = self.Z1.T@bA2\n",
    "        # バイアスに対する勾配\n",
    "        bB2 = np.sum(bA2,axis = 0)\n",
    "\n",
    "        \"\"\"1層目\"\"\"\n",
    "        # 重みに対する勾配\n",
    "\n",
    "        bZ1 = bA2@self.W2.T\n",
    "        #bA1 = bZ1 * (1 - self._sigmoid(self.A1))*self._sigmoid(self.A1)\n",
    "        bA1 = bZ1 * (1 - self.tanh_function(self.A1)**2)\n",
    "        bW1 = X.T@bA1\n",
    "        # バイアスに対する勾配\n",
    "        bB1 = np.sum(bA1,axis = 0)\n",
    "\n",
    "        # 各勾配に学習率をかけて更新\n",
    "        self.W3 -= self.lr * bW3\n",
    "        self.B3 -= self.lr * bB3\n",
    "        self.W2 -= self.lr * bW2\n",
    "        self.B2 -= self.lr * bB2\n",
    "        self.W1 -= self.lr * bW1\n",
    "        self.B1 -= self.lr * bB1\n",
    "\n",
    "    # 交差エントロピー誤差\n",
    "    def cross_entro_error(self, y, Z):\n",
    "        \"\"\"損失関数　クロスエントロピー誤差\n",
    "        Parameters\n",
    "        ----------\n",
    "        y : 正解データ\n",
    "        Z : 予測値\n",
    "        \"\"\"\n",
    "        L = - np.sum(y * np.log(Z)) / len(y)\n",
    "        return L\n",
    "    \n",
    "    def predict(self, X):\n",
    "        \"\"\"\n",
    "        ニューラルネットワーク分類器を使い推定する。\n",
    "        Parameters\n",
    "        ----------\n",
    "        X : 次の形のndarray, shape (n_samples, n_features)\n",
    "            サンプル\n",
    "        Returns\n",
    "        -------\n",
    "            次の形のndarray, shape (n_samples, 1)\n",
    "            推定結果\n",
    "        \"\"\"\n",
    "        # 順伝播処理\n",
    "        self.forward(X)\n",
    "        # 最も大きいインデックスをクラスとして採用\n",
    "        return np.argmax(self.Z3, axis=1)"
   ]
  },
  {
   "cell_type": "code",
   "execution_count": 36,
   "metadata": {},
   "outputs": [
    {
     "name": "stdout",
     "output_type": "stream",
     "text": [
      "\n"
     ]
    }
   ],
   "source": [
    "# インスタンス化\n",
    "nn = ScratchSimpleNeuralNetrowkClassifier(epoch=10)\n",
    "# 学習\n",
    "nn.fit(X_train[:10000],y_train_one_hot[:10000], X_val, y_val_one_hot) "
   ]
  },
  {
   "cell_type": "code",
   "execution_count": 37,
   "metadata": {},
   "outputs": [],
   "source": [
    "# 予測\n",
    "pred_train = nn.predict(X_train)\n",
    "pred_test = nn.predict(X_test)"
   ]
  },
  {
   "cell_type": "code",
   "execution_count": 38,
   "metadata": {},
   "outputs": [
    {
     "data": {
      "text/plain": [
       "(0.9041458333333333, 0.9078)"
      ]
     },
     "execution_count": 38,
     "metadata": {},
     "output_type": "execute_result"
    }
   ],
   "source": [
    "# 正解率\n",
    "accuracy_score(y_train, pred_train),accuracy_score(y_test, pred_test)"
   ]
  },
  {
   "cell_type": "markdown",
   "metadata": {},
   "source": [
    "## 【問題7】学習曲線のプロット"
   ]
  },
  {
   "cell_type": "markdown",
   "metadata": {},
   "source": [
    "学習曲線をプロットしてください。\n",
    "\n",
    "\n",
    "ニューラルネットワークは過学習が発生しやすいため、学習曲線の確認が重要です。訓練データと検証データに対するエポックごとの損失（交差エントロピー誤差）を記録できるようにする必要があります。"
   ]
  },
  {
   "cell_type": "code",
   "execution_count": 39,
   "metadata": {},
   "outputs": [
    {
     "data": {
      "image/png": "[encoded data removed]",
      "text/plain": [
       "<Figure size 432x288 with 1 Axes>"
      ]
     },
     "metadata": {
      "needs_background": "light"
     },
     "output_type": "display_data"
    }
   ],
   "source": [
    "plt.plot(list(range(1, nn.epoch+1)), nn.loss_train, label='train')\n",
    "plt.plot(list(range(1, nn.epoch+1)), nn.loss_val, label='test') # change\n",
    "plt.legend()\n",
    "plt.xticks(list(range(1, nn.epoch+1)));"
   ]
  },
  {
   "cell_type": "code",
   "execution_count": null,
   "metadata": {},
   "outputs": [],
   "source": []
  },
  {
   "cell_type": "code",
   "execution_count": null,
   "metadata": {},
   "outputs": [],
   "source": []
  }
 ],
 "metadata": {
  "kernelspec": {
   "display_name": "Python 3",
   "language": "python",
   "name": "python3"
  },
  "language_info": {
   "codemirror_mode": {
    "name": "ipython",
    "version": 3
   },
   "file_extension": ".py",
   "mimetype": "text/x-python",
   "name": "python",
   "nbconvert_exporter": "python",
   "pygments_lexer": "ipython3",
   "version": "3.8.5"
  }
 },
 "nbformat": 4,
 "nbformat_minor": 5
}
